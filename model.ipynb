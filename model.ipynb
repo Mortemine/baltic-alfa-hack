{
 "cells": [
  {
   "cell_type": "markdown",
   "id": "e62c7c91",
   "metadata": {},
   "source": [
    "Import libraries\n"
   ]
  },
  {
   "cell_type": "code",
   "execution_count": 31,
   "id": "4a31825b",
   "metadata": {},
   "outputs": [],
   "source": [
    "import pandas as pd\n",
    "from lightgbm import LGBMClassifier\n",
    "from sklearn.metrics import roc_auc_score\n",
    "from sklearn.model_selection import train_test_split\n",
    "from sklearn.feature_selection import SelectKBest, f_classif\n",
    "import warnings\n",
    "from sklearn.impute import SimpleImputer"
   ]
  },
  {
   "cell_type": "markdown",
   "id": "e3d8045a",
   "metadata": {},
   "source": [
    "Remove warnings\n"
   ]
  },
  {
   "cell_type": "code",
   "execution_count": 32,
   "id": "50fc2b5c",
   "metadata": {},
   "outputs": [],
   "source": [
    "warnings.filterwarnings('ignore')"
   ]
  },
  {
   "cell_type": "markdown",
   "id": "7ee0aa7b",
   "metadata": {},
   "source": [
    "load data and define categorical variables"
   ]
  },
  {
   "cell_type": "code",
   "execution_count": 33,
   "id": "c2a1856c",
   "metadata": {},
   "outputs": [],
   "source": [
    "X_full = pd.read_parquet('data/train.parquet')\n",
    "\n",
    "cat_cols = [\n",
    "    'channel_code', 'city', 'city_type',\n",
    "    'index_city_code', 'ogrn_month', 'ogrn_year',\n",
    "    'branch_code', 'okved', 'segment'\n",
    "]\n",
    "\n",
    "X_full[cat_cols] = X_full[cat_cols].astype(\"category\")\n",
    "X_full.drop(labels=['id', 'target_1', 'target_2'], axis=1, inplace=True)"
   ]
  },
  {
   "cell_type": "markdown",
   "id": "a4d87484",
   "metadata": {},
   "source": [
    "y will be result column to train and validate model"
   ]
  },
  {
   "cell_type": "code",
   "execution_count": 34,
   "id": "e6773b57",
   "metadata": {},
   "outputs": [],
   "source": [
    "y = X_full['total_target']\n",
    "\n",
    "X_full.drop('total_target', axis=1, inplace=True)"
   ]
  },
  {
   "cell_type": "markdown",
   "id": "ad0ac714",
   "metadata": {},
   "source": [
    "Impute data and select k best features using SelectKBest from sklearn then print removed features"
   ]
  },
  {
   "cell_type": "code",
   "execution_count": 50,
   "id": "1f51cc50",
   "metadata": {},
   "outputs": [
    {
     "data": {
      "text/plain": [
       "['ogrn_days_end_month', 'ogrn_days_end_quarter', 'cnt_cred_f_oper_3m']"
      ]
     },
     "execution_count": 50,
     "metadata": {},
     "output_type": "execute_result"
    }
   ],
   "source": [
    "my_imputer = SimpleImputer()\n",
    "X_new = pd.DataFrame(my_imputer.fit_transform(X_full.copy()))\n",
    "\n",
    "fvalue_selector = SelectKBest(f_classif, k=96)\n",
    "X_kbest = fvalue_selector.fit_transform(X_new, y)\n",
    "\n",
    "bad_names = [x for x in X_full.columns if x not in X_full.columns[fvalue_selector.get_support()]]\n",
    "bad_names"
   ]
  },
  {
   "cell_type": "markdown",
   "id": "356f990a",
   "metadata": {},
   "source": [
    "Split data to test and train"
   ]
  },
  {
   "cell_type": "code",
   "execution_count": 51,
   "id": "d429ac0c",
   "metadata": {},
   "outputs": [],
   "source": [
    "x_train, x_val, y_train, y_val = train_test_split(X_kbest, y,\n",
    "                                                  test_size=0.3,\n",
    "                                                  random_state=191)"
   ]
  },
  {
   "cell_type": "markdown",
   "id": "e2bf30cc",
   "metadata": {},
   "source": [
    "1. Define model with parameters that were selected using random search and cross validation;\n",
    "2. Fit and predict;\n",
    "3. Score model by roc_auc_score."
   ]
  },
  {
   "cell_type": "code",
   "execution_count": 52,
   "id": "d9e0eb04",
   "metadata": {},
   "outputs": [
    {
     "data": {
      "text/plain": [
       "0.8873265511737458"
      ]
     },
     "execution_count": 52,
     "metadata": {},
     "output_type": "execute_result"
    }
   ],
   "source": [
    "model = LGBMClassifier(n_estimators=229,reg_alpha=10,reg_lambda=10,subsample_for_bin=200000, random_state=12,\n",
    "                       colsample_bytree=0.45,verbose=-1, n_jobs=5)\n",
    "model.fit(x_train, y_train)\n",
    "\n",
    "y_pred = model.predict_proba(x_val)[:, 1]\n",
    "\n",
    "roc_auc_score(y_val, y_pred)"
   ]
  },
  {
   "cell_type": "markdown",
   "id": "1000143c",
   "metadata": {},
   "source": [
    "Applying previous steps to clear test data and make prediction."
   ]
  },
  {
   "cell_type": "code",
   "execution_count": 53,
   "id": "ba2f7e22",
   "metadata": {},
   "outputs": [],
   "source": [
    "X_test = pd.read_parquet('data/test.parquet')\n",
    "cat_cols = [\n",
    "    'channel_code', 'city', 'city_type',\n",
    "    'index_city_code', 'ogrn_month', 'ogrn_year',\n",
    "    'branch_code', 'okved', 'segment'\n",
    "]\n",
    "\n",
    "X_test[cat_cols] = X_test[cat_cols].astype(\"category\")\n",
    "X_test.drop(labels=['id']+bad_names, axis=1, inplace=True)\n",
    "\n",
    "my_imputer = SimpleImputer(strategy='most_frequent')\n",
    "X_test_new = pd.DataFrame(my_imputer.fit_transform(X_test.copy()))\n",
    "test_score = model.predict_proba(X_test)[:, 1]"
   ]
  },
  {
   "cell_type": "markdown",
   "id": "37860f6e",
   "metadata": {},
   "source": [
    "Load sample submission file and fill with our predictions"
   ]
  },
  {
   "cell_type": "code",
   "execution_count": 55,
   "id": "73da5842",
   "metadata": {},
   "outputs": [
    {
     "data": {
      "text/html": [
       "<div>\n",
       "<style scoped>\n",
       "    .dataframe tbody tr th:only-of-type {\n",
       "        vertical-align: middle;\n",
       "    }\n",
       "\n",
       "    .dataframe tbody tr th {\n",
       "        vertical-align: top;\n",
       "    }\n",
       "\n",
       "    .dataframe thead th {\n",
       "        text-align: right;\n",
       "    }\n",
       "</style>\n",
       "<table border=\"1\" class=\"dataframe\">\n",
       "  <thead>\n",
       "    <tr style=\"text-align: right;\">\n",
       "      <th></th>\n",
       "      <th>id</th>\n",
       "      <th>score</th>\n",
       "    </tr>\n",
       "  </thead>\n",
       "  <tbody>\n",
       "    <tr>\n",
       "      <th>0</th>\n",
       "      <td>300000</td>\n",
       "      <td>0.074172</td>\n",
       "    </tr>\n",
       "    <tr>\n",
       "      <th>1</th>\n",
       "      <td>300001</td>\n",
       "      <td>0.151056</td>\n",
       "    </tr>\n",
       "    <tr>\n",
       "      <th>2</th>\n",
       "      <td>300002</td>\n",
       "      <td>0.004210</td>\n",
       "    </tr>\n",
       "    <tr>\n",
       "      <th>3</th>\n",
       "      <td>300003</td>\n",
       "      <td>0.005599</td>\n",
       "    </tr>\n",
       "    <tr>\n",
       "      <th>4</th>\n",
       "      <td>300004</td>\n",
       "      <td>0.005088</td>\n",
       "    </tr>\n",
       "  </tbody>\n",
       "</table>\n",
       "</div>"
      ],
      "text/plain": [
       "       id     score\n",
       "0  300000  0.074172\n",
       "1  300001  0.151056\n",
       "2  300002  0.004210\n",
       "3  300003  0.005599\n",
       "4  300004  0.005088"
      ]
     },
     "execution_count": 55,
     "metadata": {},
     "output_type": "execute_result"
    }
   ],
   "source": [
    "sample_submission_df = pd.read_csv(\"data/sample_submission.csv\")\n",
    "sample_submission_df.head()\n",
    "sample_submission_df[\"score\"] = test_score\n",
    "sample_submission_df.head()"
   ]
  },
  {
   "cell_type": "markdown",
   "id": "dae3ce2d",
   "metadata": {},
   "source": [
    "Save predictions to csv file"
   ]
  },
  {
   "cell_type": "code",
   "execution_count": 56,
   "id": "6a8d2d47",
   "metadata": {},
   "outputs": [],
   "source": [
    "sample_submission_df.to_csv(\"my_submission.csv\", index=False)"
   ]
  }
 ],
 "metadata": {
  "kernelspec": {
   "display_name": "Python 3 (ipykernel)",
   "language": "python",
   "name": "python3"
  },
  "language_info": {
   "codemirror_mode": {
    "name": "ipython",
    "version": 3
   },
   "file_extension": ".py",
   "mimetype": "text/x-python",
   "name": "python",
   "nbconvert_exporter": "python",
   "pygments_lexer": "ipython3",
   "version": "3.11.3"
  }
 },
 "nbformat": 4,
 "nbformat_minor": 5
}
